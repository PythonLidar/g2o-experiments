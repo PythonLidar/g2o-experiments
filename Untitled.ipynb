{
 "cells": [
  {
   "cell_type": "code",
   "execution_count": 29,
   "metadata": {},
   "outputs": [],
   "source": [
    "import numpy as np\n",
    "import g2o\n",
    "import time"
   ]
  },
  {
   "cell_type": "code",
   "execution_count": 54,
   "metadata": {},
   "outputs": [
    {
     "name": "stdout",
     "output_type": "stream",
     "text": [
      "2500\n"
     ]
    }
   ],
   "source": [
    "optimizer = g2o.SparseOptimizer()\n",
    "optimizer.set_verbose(True)\n",
    "\n",
    "optimizer.load(\"data/sphere2500.g2o\")\n",
    "print(len(optimizer.vertices()))"
   ]
  },
  {
   "cell_type": "code",
   "execution_count": 55,
   "metadata": {},
   "outputs": [
    {
     "name": "stdout",
     "output_type": "stream",
     "text": [
      "[[1. 0. 0. 0.]\n",
      " [0. 1. 0. 0.]\n",
      " [0. 0. 1. 0.]\n",
      " [0. 0. 0. 1.]]\n"
     ]
    }
   ],
   "source": [
    "print(optimizer.vertex(0).estimate().matrix()) #get Rt matrix of single point"
   ]
  },
  {
   "cell_type": "code",
   "execution_count": 56,
   "metadata": {},
   "outputs": [
    {
     "name": "stdout",
     "output_type": "stream",
     "text": [
      "['__class__', '__cmp__', '__contains__', '__delattr__', '__delitem__', '__doc__', '__eq__', '__format__', '__ge__', '__getattribute__', '__getitem__', '__gt__', '__hash__', '__init__', '__iter__', '__le__', '__len__', '__lt__', '__ne__', '__new__', '__reduce__', '__reduce_ex__', '__repr__', '__setattr__', '__setitem__', '__sizeof__', '__str__', '__subclasshook__', 'clear', 'copy', 'fromkeys', 'get', 'has_key', 'items', 'iteritems', 'iterkeys', 'itervalues', 'keys', 'pop', 'popitem', 'setdefault', 'update', 'values', 'viewitems', 'viewkeys', 'viewvalues']\n",
      "0.0115721225739\n",
      "0.0103030204773\n",
      "0.00954413414001\n",
      "0.00935292243958\n"
     ]
    }
   ],
   "source": [
    "#try to figure out how to get Rt matrices of all vertices\n",
    "print(dir(optimizer.vertices()))\n",
    "\n",
    "matrices = None\n",
    "start = time.time()\n",
    "matrices = map(lambda x: x.estimate().matrix(), optimizer.vertices().values())\n",
    "stop = time.time()\n",
    "print(stop-start)\n",
    "\n",
    "matrices = None\n",
    "start = time.time()\n",
    "matrices = [i.estimate().matrix() for i in optimizer.vertices().values()]\n",
    "stop = time.time()\n",
    "print(stop-start)\n",
    "\n",
    "matrices = None\n",
    "start = time.time()\n",
    "matrices = map(lambda x: x.estimate().matrix(), optimizer.vertices().values())\n",
    "stop = time.time()\n",
    "print(stop-start)\n",
    "\n",
    "matrices = None\n",
    "start = time.time()\n",
    "matrices = [i.estimate().matrix() for i in optimizer.vertices().values()]\n",
    "stop = time.time()\n",
    "print(stop-start)\n"
   ]
  },
  {
   "cell_type": "code",
   "execution_count": null,
   "metadata": {},
   "outputs": [],
   "source": []
  }
 ],
 "metadata": {
  "kernelspec": {
   "display_name": "Python 2",
   "language": "python",
   "name": "python2"
  },
  "language_info": {
   "codemirror_mode": {
    "name": "ipython",
    "version": 2
   },
   "file_extension": ".py",
   "mimetype": "text/x-python",
   "name": "python",
   "nbconvert_exporter": "python",
   "pygments_lexer": "ipython2",
   "version": "2.7.12"
  }
 },
 "nbformat": 4,
 "nbformat_minor": 2
}
