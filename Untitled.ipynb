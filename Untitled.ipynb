{
 "cells": [
  {
   "cell_type": "code",
   "execution_count": 2,
   "metadata": {},
   "outputs": [],
   "source": [
    "import numpy as np\n",
    "import g2o\n",
    "import time"
   ]
  },
  {
   "cell_type": "code",
   "execution_count": 3,
   "metadata": {},
   "outputs": [
    {
     "name": "stdout",
     "output_type": "stream",
     "text": [
      "2500\n"
     ]
    }
   ],
   "source": [
    "optimizer = g2o.SparseOptimizer()\n",
    "optimizer.set_verbose(True)\n",
    "\n",
    "optimizer.load(\"data/sphere2500.g2o\")\n",
    "print(len(optimizer.vertices()))"
   ]
  },
  {
   "cell_type": "code",
   "execution_count": 4,
   "metadata": {},
   "outputs": [
    {
     "name": "stdout",
     "output_type": "stream",
     "text": [
      "[[1. 0. 0. 0.]\n",
      " [0. 1. 0. 0.]\n",
      " [0. 0. 1. 0.]\n",
      " [0. 0. 0. 1.]]\n"
     ]
    }
   ],
   "source": [
    "print(optimizer.vertex(0).estimate().matrix()) #get Rt matrix of single point"
   ]
  },
  {
   "cell_type": "code",
   "execution_count": 5,
   "metadata": {},
   "outputs": [
    {
     "name": "stdout",
     "output_type": "stream",
     "text": [
      "['__class__', '__cmp__', '__contains__', '__delattr__', '__delitem__', '__doc__', '__eq__', '__format__', '__ge__', '__getattribute__', '__getitem__', '__gt__', '__hash__', '__init__', '__iter__', '__le__', '__len__', '__lt__', '__ne__', '__new__', '__reduce__', '__reduce_ex__', '__repr__', '__setattr__', '__setitem__', '__sizeof__', '__str__', '__subclasshook__', 'clear', 'copy', 'fromkeys', 'get', 'has_key', 'items', 'iteritems', 'iterkeys', 'itervalues', 'keys', 'pop', 'popitem', 'setdefault', 'update', 'values', 'viewitems', 'viewkeys', 'viewvalues']\n"
     ]
    }
   ],
   "source": [
    "#try to figure out how to get Rt matrices of all vertices\n",
    "print(dir(optimizer.vertices()))\n",
    "\n",
    "matrices = map(lambda x: x.estimate().matrix(), optimizer.vertices().values())\n",
    "\n",
    "matrices = [i.estimate().matrix() for i in optimizer.vertices().values()]"
   ]
  },
  {
   "cell_type": "code",
   "execution_count": 40,
   "metadata": {},
   "outputs": [
    {
     "name": "stdout",
     "output_type": "stream",
     "text": [
      "4949\n",
      "[[ 1.99345092e-01 -5.97164539e-01  7.76954104e-01  3.32583000e+01]\n",
      " [ 9.79745441e-01  1.06061548e-01 -1.69857703e-01  1.21263000e+01]\n",
      " [ 1.90272307e-02  7.95076904e-01  6.06210759e-01 -4.84906000e+01]\n",
      " [ 0.00000000e+00  0.00000000e+00  0.00000000e+00  1.00000000e+00]]\n",
      "(4949, 2, 4, 4)\n"
     ]
    }
   ],
   "source": [
    "edges = [edge for edge in optimizer.edges()]\n",
    "print(len(edges))\n",
    "#print(edges[0].vertices().values().estimate().matrix())\n",
    "\n",
    "print(edges[0].vertices()[0].estimate().matrix())\n",
    "\n",
    "edges_list = []\n",
    "for edge in edges:\n",
    "    edges_list.append([edge.vertices()[0].estimate().matrix(), edge.vertices()[1].estimate().matrix()])\n",
    "\n",
    "print(np.shape(edges_list))"
   ]
  }
 ],
 "metadata": {
  "kernelspec": {
   "display_name": "Python 2",
   "language": "python",
   "name": "python2"
  },
  "language_info": {
   "codemirror_mode": {
    "name": "ipython",
    "version": 2
   },
   "file_extension": ".py",
   "mimetype": "text/x-python",
   "name": "python",
   "nbconvert_exporter": "python",
   "pygments_lexer": "ipython2",
   "version": "2.7.12"
  }
 },
 "nbformat": 4,
 "nbformat_minor": 2
}
