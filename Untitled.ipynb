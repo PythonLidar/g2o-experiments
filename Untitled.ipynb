{
 "cells": [
  {
   "cell_type": "code",
   "execution_count": 72,
   "metadata": {},
   "outputs": [],
   "source": [
    "import numpy as np\n",
    "import g2o\n",
    "import time"
   ]
  },
  {
   "cell_type": "code",
   "execution_count": 73,
   "metadata": {},
   "outputs": [
    {
     "name": "stdout",
     "output_type": "stream",
     "text": [
      "2500\n"
     ]
    }
   ],
   "source": [
    "optimizer = g2o.SparseOptimizer()\n",
    "optimizer.set_verbose(True)\n",
    "\n",
    "optimizer.load(\"data/sphere2500.g2o\")\n",
    "print(len(optimizer.vertices()))"
   ]
  },
  {
   "cell_type": "code",
   "execution_count": 74,
   "metadata": {},
   "outputs": [
    {
     "name": "stdout",
     "output_type": "stream",
     "text": [
      "[[1. 0. 0. 0.]\n",
      " [0. 1. 0. 0.]\n",
      " [0. 0. 1. 0.]\n",
      " [0. 0. 0. 1.]]\n"
     ]
    }
   ],
   "source": [
    "print(optimizer.vertex(0).estimate().matrix()) #get Rt matrix of single point"
   ]
  },
  {
   "cell_type": "code",
   "execution_count": 75,
   "metadata": {},
   "outputs": [
    {
     "name": "stdout",
     "output_type": "stream",
     "text": [
      "['__class__', '__cmp__', '__contains__', '__delattr__', '__delitem__', '__doc__', '__eq__', '__format__', '__ge__', '__getattribute__', '__getitem__', '__gt__', '__hash__', '__init__', '__iter__', '__le__', '__len__', '__lt__', '__ne__', '__new__', '__reduce__', '__reduce_ex__', '__repr__', '__setattr__', '__setitem__', '__sizeof__', '__str__', '__subclasshook__', 'clear', 'copy', 'fromkeys', 'get', 'has_key', 'items', 'iteritems', 'iterkeys', 'itervalues', 'keys', 'pop', 'popitem', 'setdefault', 'update', 'values', 'viewitems', 'viewkeys', 'viewvalues']\n"
     ]
    }
   ],
   "source": [
    "#try to figure out how to get Rt matrices of all vertices\n",
    "print(dir(optimizer.vertices()))\n",
    "\n",
    "matrices = map(lambda x: x.estimate().matrix(), optimizer.vertices().values())\n",
    "\n",
    "matrices = [i.estimate().matrix() for i in optimizer.vertices().values()]"
   ]
  },
  {
   "cell_type": "code",
   "execution_count": 89,
   "metadata": {},
   "outputs": [
    {
     "name": "stdout",
     "output_type": "stream",
     "text": [
      "4949\n",
      "['__class__', '__delattr__', '__doc__', '__format__', '__getattribute__', '__hash__', '__init__', '__module__', '__new__', '__reduce__', '__reduce_ex__', '__repr__', '__setattr__', '__sizeof__', '__str__', '__subclasshook__', 'add_user_data', 'all_vertices_fixed', 'chi2', 'clone', 'compute_error', 'construct_quadratic_form', 'create_from', 'create_to', 'create_vertex', 'dimension', 'element_type', 'error', 'get_measurement_data', 'graph', 'id', 'information', 'initial_estimate', 'initial_estimate_possible', 'internal_id', 'jacobian_oplus_xi', 'jacobian_oplus_xj', 'level', 'linearize_oplus', 'map_hessian_memory', 'measurement', 'measurement_dimension', 'num_parameters', 'num_undefined_vertices', 'parameter', 'rank', 'resize', 'resize_parameters', 'robust_kernel', 'set_id', 'set_information', 'set_level', 'set_measurement', 'set_measurement_data', 'set_measurement_from_state', 'set_parameter_id', 'set_robust_kernel', 'set_user_data', 'set_vertex', 'user_data', 'vertex', 'vertices']\n",
      "[<g2o.VertexSE3 object at 0x7fe33b5d2998>, <g2o.VertexSE3 object at 0x7fe378b32a40>]\n"
     ]
    }
   ],
   "source": [
    "edges = [edge for edge in optimizer.edges()]\n",
    "print(len(edges))\n",
    "print(dir(edges[0]))\n",
    "print(edges[0].vertices())"
   ]
  },
  {
   "cell_type": "code",
   "execution_count": null,
   "metadata": {},
   "outputs": [],
   "source": [
    "test = optimizer.edges"
   ]
  }
 ],
 "metadata": {
  "kernelspec": {
   "display_name": "Python 2",
   "language": "python",
   "name": "python2"
  },
  "language_info": {
   "codemirror_mode": {
    "name": "ipython",
    "version": 2
   },
   "file_extension": ".py",
   "mimetype": "text/x-python",
   "name": "python",
   "nbconvert_exporter": "python",
   "pygments_lexer": "ipython2",
   "version": "2.7.12"
  }
 },
 "nbformat": 4,
 "nbformat_minor": 2
}
